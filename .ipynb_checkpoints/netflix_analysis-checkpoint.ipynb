{
 "cells": [
  {
   "cell_type": "code",
   "execution_count": null,
   "id": "4c0a5be5-be83-484b-a6e6-7104a99b4be6",
   "metadata": {},
   "outputs": [],
   "source": [
    "import pandas as pd\n",
    "import matplotlib.pyplot as plt\n",
    "import plotly.express as px\n",
    "import seaborn as sns\n",
    "import numpy as np\n",
    "\n",
    "pd.set_option('display.max_rows', None) \n",
    "pd.set_option('display.max_columns', None)"
   ]
  },
  {
   "cell_type": "code",
   "execution_count": null,
   "id": "a297ef46-cac9-4c3b-8093-f40bcccb752f",
   "metadata": {},
   "outputs": [],
   "source": [
    "netflix_titles = pd.read_csv('datasets/netflix_titles.csv')"
   ]
  },
  {
   "cell_type": "code",
   "execution_count": null,
   "id": "36b7b174-1955-4211-8c18-93fad7f63d4e",
   "metadata": {},
   "outputs": [],
   "source": [
    "netflix_titles.head()"
   ]
  },
  {
   "cell_type": "code",
   "execution_count": null,
   "id": "c7373fce-43a6-488a-b3c3-9e9d1dc802aa",
   "metadata": {},
   "outputs": [],
   "source": [
    "netflix_titles.tail()"
   ]
  },
  {
   "cell_type": "code",
   "execution_count": null,
   "id": "8ce0d154-ba63-47fc-954d-c728f1d9b786",
   "metadata": {},
   "outputs": [],
   "source": [
    "netflix_titles.shape"
   ]
  },
  {
   "cell_type": "code",
   "execution_count": null,
   "id": "747cafd4-cde1-4b63-9774-6fa505a2009a",
   "metadata": {},
   "outputs": [],
   "source": [
    "netflix_titles.info()"
   ]
  },
  {
   "cell_type": "code",
   "execution_count": null,
   "id": "a4ddac3d-fdcb-4541-b2da-4d8aa4845314",
   "metadata": {},
   "outputs": [],
   "source": [
    "netflix_titles.describe()"
   ]
  },
  {
   "cell_type": "code",
   "execution_count": null,
   "id": "3f137925-8106-4687-9f00-c7e27582008a",
   "metadata": {},
   "outputs": [],
   "source": [
    "columns = netflix_titles.columns\n",
    "columns"
   ]
  },
  {
   "cell_type": "code",
   "execution_count": null,
   "id": "a8305220-e36c-4f1e-a1f7-9602d860c881",
   "metadata": {},
   "outputs": [],
   "source": [
    "for x in columns:\n",
    "    print(x)"
   ]
  },
  {
   "cell_type": "code",
   "execution_count": null,
   "id": "118541f5-c4c4-4213-8cab-9c7b332cc0fb",
   "metadata": {},
   "outputs": [],
   "source": [
    "#To print the columns in ascending order\n",
    "for x in sorted(netflix_titles, reverse=False):\n",
    "    print(x)"
   ]
  },
  {
   "cell_type": "markdown",
   "id": "ae1a78e2-dcf6-4581-80d7-46767a6b8010",
   "metadata": {},
   "source": [
    "### Checking for missing values"
   ]
  },
  {
   "cell_type": "code",
   "execution_count": null,
   "id": "d2a5af49-8027-411f-a84a-8ccffd0ef774",
   "metadata": {},
   "outputs": [],
   "source": [
    "netflix_titles.isnull()"
   ]
  },
  {
   "cell_type": "code",
   "execution_count": null,
   "id": "9be26d2f-f163-45d8-9bee-e22be64b39fb",
   "metadata": {},
   "outputs": [],
   "source": [
    "num_missing_columns = netflix_titles.isnull().sum()\n",
    "num_missing_columns"
   ]
  },
  {
   "cell_type": "markdown",
   "id": "a7a49b6e-adc5-47b1-8683-678355c15782",
   "metadata": {},
   "source": [
    "### Checking for unique values in a column"
   ]
  },
  {
   "cell_type": "code",
   "execution_count": null,
   "id": "903c0381-b85f-4197-8d12-8cfeef3be0ce",
   "metadata": {},
   "outputs": [],
   "source": [
    "netflix_titles.nunique()"
   ]
  },
  {
   "cell_type": "code",
   "execution_count": null,
   "id": "fdb82d2c-e27c-4748-ba06-3e4eb1259d56",
   "metadata": {},
   "outputs": [],
   "source": [
    "#In a particular column\n",
    "num_unique_netflix_type = netflix_titles['type'].nunique()\n",
    "num_unique_netflix_type"
   ]
  },
  {
   "cell_type": "code",
   "execution_count": null,
   "id": "fff46793-3197-434c-8ba5-ec33dbd158fc",
   "metadata": {},
   "outputs": [],
   "source": [
    "unique_netflix_types = netflix_titles['type'].unique()\n",
    "unique_netflix_types"
   ]
  },
  {
   "cell_type": "markdown",
   "id": "797f370e-b64a-466e-afd2-08f6a211f74c",
   "metadata": {},
   "source": [
    "### Grouping columns"
   ]
  },
  {
   "cell_type": "code",
   "execution_count": null,
   "id": "6ba322b5-1fdc-4ca8-9049-546619eb1bf5",
   "metadata": {},
   "outputs": [],
   "source": [
    "group_types = netflix_titles.groupby('type')\n",
    "group_types.size()"
   ]
  },
  {
   "cell_type": "code",
   "execution_count": null,
   "id": "c5ca7005-4c42-4edc-b5bc-915bdafe655f",
   "metadata": {},
   "outputs": [],
   "source": [
    "group_countries = netflix_titles.groupby('country')\n",
    "group_countries.size()"
   ]
  },
  {
   "cell_type": "code",
   "execution_count": null,
   "id": "8f19f05e-01e1-4134-af8b-c69cf1730d87",
   "metadata": {},
   "outputs": [],
   "source": [
    "#Top 10 countries with the most movies and tv shows\n",
    "group_countries.size().sort_values(ascending=False).head(10)"
   ]
  },
  {
   "cell_type": "code",
   "execution_count": null,
   "id": "6da591bc-1d21-4afb-a36b-dcb1102507f4",
   "metadata": {},
   "outputs": [],
   "source": [
    "kenyan_shows = netflix_titles[netflix_titles['country'] == 'Kenya']\n",
    "kenyan_shows.shape[0]"
   ]
  },
  {
   "cell_type": "code",
   "execution_count": null,
   "id": "978e3917-bf66-4e66-a036-8d2e85695163",
   "metadata": {},
   "outputs": [],
   "source": [
    "#Group by ratings and find average of their release year\n",
    "grouped_ratings = netflix_titles.groupby('rating')\n",
    "grouped_ratings['release_year'].mean().round(1)"
   ]
  },
  {
   "cell_type": "code",
   "execution_count": null,
   "id": "19bbd49f-d62b-46e5-935c-456320efaab4",
   "metadata": {},
   "outputs": [],
   "source": [
    "# Group by type, release year and how many types have been released in that year\n",
    "netflix_titles.groupby(['type', 'release_year']).size().reset_index(name = 'counts').head()"
   ]
  },
  {
   "cell_type": "code",
   "execution_count": null,
   "id": "d472ce0d-0671-4661-b489-cc306b455ec0",
   "metadata": {},
   "outputs": [],
   "source": [
    "# Distribution of content type\n",
    "content_type_counts = netflix_titles['type'].value_counts()\n",
    "\n",
    "plt.figure(figsize=(8, 5))\n",
    "content_type_counts.plot(kind='bar', color=['#FF6347', '#4682B4'])\n",
    "plt.title('Distribution of Content Type')\n",
    "plt.xlabel('Type')\n",
    "plt.ylabel('Count')\n",
    "plt.show()"
   ]
  },
  {
   "cell_type": "code",
   "execution_count": null,
   "id": "b4c258bf-176b-421d-a8f0-888772e03d0e",
   "metadata": {},
   "outputs": [],
   "source": [
    "# Top 10 countries by content count\n",
    "top_countries = netflix_titles['country'].value_counts().head(10)\n",
    "\n",
    "plt.figure(figsize=(12, 7))\n",
    "top_countries.plot(kind='bar', color='#FF6347')\n",
    "plt.title('Top 10 Countries by Content Count')\n",
    "plt.xlabel('Country')\n",
    "plt.ylabel('Count')\n",
    "plt.show()"
   ]
  },
  {
   "cell_type": "code",
   "execution_count": null,
   "id": "8fdc4f15-dc29-4218-97c9-6e7f5f12480e",
   "metadata": {},
   "outputs": [],
   "source": [
    "# Count plot of ratings\n",
    "plt.figure(figsize=(14, 7))\n",
    "sns.countplot(y='rating', data=netflix_titles, order=netflix_titles['rating'].value_counts().index, hue='rating', palette='Set3')\n",
    "plt.title('Count Plot of Ratings')\n",
    "plt.xlabel('Count')\n",
    "plt.ylabel('Rating')"
   ]
  },
  {
   "cell_type": "code",
   "execution_count": null,
   "id": "82e592af-cbf2-4dd4-8625-fb3b26870485",
   "metadata": {},
   "outputs": [],
   "source": [
    "# Extracting top 10 directors\n",
    "top_10_directors = netflix_titles['director'].value_counts().head(10).index\n",
    "\n",
    "# Count plot of top 10 directors\n",
    "plt.figure(figsize=(14, 7))\n",
    "sns.countplot(y='director', data=netflix_titles[netflix_titles['director'].isin(top_10_directors)], hue='director', palette='Set1', order=top_10_directors)\n",
    "plt.title('Count Plot of Top 10 Directors')\n",
    "plt.xlabel('Count')\n",
    "plt.ylabel('Director')\n",
    "plt.show()"
   ]
  },
  {
   "cell_type": "code",
   "execution_count": null,
   "id": "b11201c3-1c81-4b15-93a0-042c70a23380",
   "metadata": {},
   "outputs": [],
   "source": [
    "netflix_titles.duration.head()"
   ]
  },
  {
   "cell_type": "markdown",
   "id": "f77ebdc4-60ed-40fa-9b39-5ef068640c3f",
   "metadata": {},
   "source": [
    "#### Converts the minutes from a string to an integer by:\n",
    "1. Replacing mins and seasons from duration string with empty string\n",
    "2. If it's a season, we assume that each has 10 episodes with each episode having 40 minutes"
   ]
  },
  {
   "cell_type": "code",
   "execution_count": null,
   "id": "685f178c-54c7-4338-8d70-06fed1357717",
   "metadata": {},
   "outputs": [],
   "source": [
    "def minutes_to_integer_conversion(duration):\n",
    "    minutes = 0\n",
    "    duration = duration.strip().lower()\n",
    "    if \"min\" in duration:\n",
    "        duration = duration.replace(\" min\", \"\")\n",
    "        minutes = int(duration)\n",
    "        return minutes\n",
    "    elif \"seasons\" in duration:\n",
    "        duration = duration.replace(\"seasons\",\"\")\n",
    "\n",
    "        num_of_episodes = 10\n",
    "        min_per_episode = 40\n",
    "        minutes = int(duration) * num_of_episodes * min_per_episode\n",
    "        return minutes"
   ]
  },
  {
   "cell_type": "code",
   "execution_count": null,
   "id": "d5ab2414-3173-4723-a704-0abbaa6dd373",
   "metadata": {},
   "outputs": [],
   "source": [
    "for idx, duration in enumerate(netflix_titles['duration']): \n",
    "    netflix_titles.loc[idx, 'parsed_duration'] = minutes_to_integer_conversion(duration)"
   ]
  },
  {
   "cell_type": "code",
   "execution_count": null,
   "id": "8197fdaa-d8c3-466d-9943-9822315875cc",
   "metadata": {},
   "outputs": [],
   "source": [
    "netflix_titles['parsed_duration'].tail()"
   ]
  },
  {
   "cell_type": "code",
   "execution_count": null,
   "id": "f5629b50-1363-4251-92a9-f8c474ca7bc3",
   "metadata": {},
   "outputs": [],
   "source": [
    "# Separate movies and TV shows\n",
    "movies = netflix_titles[netflix_titles['type'] == 'Movie']\n",
    "tv_shows = netflix_titles[netflix_titles['type'] == 'TV Show']\n",
    "\n",
    "# Prepare data for bar chart\n",
    "movies_duration_per_year = movies.groupby('release_year')['parsed_duration'].mean().reset_index()\n",
    "tv_shows_duration_per_year = tv_shows.groupby('release_year')['parsed_duration'].mean().reset_index()"
   ]
  },
  {
   "cell_type": "code",
   "execution_count": null,
   "id": "6cef66f4-3fc5-435e-ad63-0f4b03b902e2",
   "metadata": {},
   "outputs": [],
   "source": [
    "# Bar Chart for Movies and TV Shows Duration\n",
    "fig_bar = px.bar(\n",
    "    movies_duration_per_year,\n",
    "    x='release_year',\n",
    "    y='parsed_duration',\n",
    "    labels={'parsed_duration': 'Average Duration (minutes)', 'release_year': 'Release Year'},\n",
    "    title='Average Duration of Movies per Year',\n",
    "    hover_data=['parsed_duration']\n",
    ")\n",
    "fig_bar.show()"
   ]
  },
  {
   "cell_type": "code",
   "execution_count": null,
   "id": "d4f0c29f-f97c-410d-b969-da9cd1706436",
   "metadata": {},
   "outputs": [],
   "source": [
    "fig_bar = px.bar(\n",
    "    tv_shows_duration_per_year,\n",
    "    x = 'release_year',\n",
    "    y = 'parsed_duration',\n",
    "    labels={'parsed_duration':'Average Duration(minutes)', 'release_year':'Release Year'},\n",
    "    title='Average Duration of TV Shows per Year',\n",
    "    hover_data=['parsed_duration']\n",
    ")\n",
    "fig_bar.show()"
   ]
  },
  {
   "cell_type": "code",
   "execution_count": null,
   "id": "14fcf01f-d2ec-46e8-b26d-3d0a6a3001b3",
   "metadata": {},
   "outputs": [],
   "source": [
    "# Line Chart for Movies and TV Shows Duration\n",
    "fig_line = px.line(\n",
    "    movies_duration_per_year,\n",
    "    x='release_year',\n",
    "    y='parsed_duration',\n",
    "    labels={'parsed_duration': 'Average Duration (minutes)', 'release_year': 'Release Year'},\n",
    "    title='Average Duration of Movies per Year'\n",
    ")\n",
    "fig_line.show()"
   ]
  },
  {
   "cell_type": "code",
   "execution_count": null,
   "id": "448fd857-bb28-4594-8cd8-a7d4b40cb634",
   "metadata": {},
   "outputs": [],
   "source": [
    "#Line charts - tv shows\n",
    "fig_line = px.line(\n",
    "    tv_shows_duration_per_year,\n",
    "    x='release_year',\n",
    "    y='parsed_duration',\n",
    "    labels={'parsed_duration': 'Average Duration (minutes)', 'release_year': 'Release Year'},\n",
    "    title='Average Duration of Movies per Year'\n",
    ")\n",
    "fig_line.show()"
   ]
  },
  {
   "cell_type": "markdown",
   "id": "bef46842-13b4-47c1-8b39-2b82b6f7808e",
   "metadata": {},
   "source": [
    "### Creating new columns based off the categories in the listed_in column\n",
    "\n",
    "#### Logic:\n",
    "\n",
    "- loop through the listed_in column values /n\n",
    "- split them into their own individual columns\n",
    "- if movie contains the category, set it to true else false\n"
   ]
  },
  {
   "cell_type": "code",
   "execution_count": null,
   "id": "97be8673-a75e-4a10-b838-023c546d8648",
   "metadata": {},
   "outputs": [],
   "source": [
    "listed = netflix_titles.listed_in"
   ]
  },
  {
   "cell_type": "code",
   "execution_count": null,
   "id": "135de912-2c84-463e-b4f6-460354f4f8f2",
   "metadata": {},
   "outputs": [],
   "source": [
    "#loop through the listed_in column values to get all the categories needed as a set\n",
    "categories_set = set()\n",
    "\n",
    "for cat in listed:\n",
    "    x = cat.split(',')\n",
    "    for y in x:\n",
    "        categories_set.add(y.strip())\n",
    "\n",
    "categories_list= list(categories_set)"
   ]
  },
  {
   "cell_type": "code",
   "execution_count": null,
   "id": "8e3a7709-9345-4e30-9d16-a8b6bbbd46b7",
   "metadata": {},
   "outputs": [],
   "source": [
    "categories_list[:10]"
   ]
  },
  {
   "cell_type": "code",
   "execution_count": null,
   "id": "49d31644-bc40-465b-9193-78c009895a8e",
   "metadata": {},
   "outputs": [],
   "source": [
    "#Add columns for each of the rows and set default values to none\n",
    "netflix_titles[categories_list] = np.array(categories_list).fill(False)"
   ]
  },
  {
   "cell_type": "code",
   "execution_count": null,
   "id": "2dbeff4f-98df-4a1e-bb2e-ed9773e5fde9",
   "metadata": {},
   "outputs": [],
   "source": [
    "netflix_titles.head()"
   ]
  },
  {
   "cell_type": "code",
   "execution_count": null,
   "id": "ea7914e1-14c2-4831-b88c-dd42cd70ec99",
   "metadata": {},
   "outputs": [],
   "source": [
    "splitting_categories = netflix_titles.listed_in.str.split(',')"
   ]
  },
  {
   "cell_type": "code",
   "execution_count": null,
   "id": "300624f6-8265-460e-9362-a4d169ffe784",
   "metadata": {},
   "outputs": [],
   "source": [
    "#Convert the splitting_categories into a dataframe\n",
    "splitting_categories_df = pd.DataFrame(splitting_categories)"
   ]
  },
  {
   "cell_type": "code",
   "execution_count": null,
   "id": "b45fd037-ec3e-4453-8c87-3de061658776",
   "metadata": {},
   "outputs": [],
   "source": [
    "#Brute force approach - has a logarithmic time complexity (todo: make the time complexity more efficient)\n",
    "for index, cat in splitting_categories_df['listed_in'].items():\n",
    "    for item in cat:\n",
    "        stripped_category = item.strip()\n",
    "        if stripped_category in categories_set:\n",
    "            netflix_titles.loc[index, stripped_category] = True\n",
    "        else:\n",
    "            netflix_titles.loc[index, stripped_category] = False\n",
    "            \n",
    "#Todo: Find more efficient way might be convert the categories into a dictionary, loop through splitting and find based on the category key"
   ]
  },
  {
   "cell_type": "code",
   "execution_count": null,
   "id": "336cbcb2-4977-4e71-8305-ee3aacc30d50",
   "metadata": {},
   "outputs": [],
   "source": [
    "netflix_titles.head()"
   ]
  },
  {
   "cell_type": "code",
   "execution_count": null,
   "id": "240c32f8-5a82-4cbf-886b-a0b8b3023ed7",
   "metadata": {},
   "outputs": [],
   "source": [
    "#Show movies that only belong to the sports category\n",
    "sport_movies = netflix_titles[(netflix_titles['Sports Movies'] == True) & (netflix_titles['Documentaries'] != True)]\n",
    "sport_movies.shape"
   ]
  },
  {
   "cell_type": "code",
   "execution_count": null,
   "id": "b524960d-50f3-4783-b12e-c0fb00fb34fa",
   "metadata": {},
   "outputs": [],
   "source": [
    "sport_movies.head()"
   ]
  },
  {
   "cell_type": "code",
   "execution_count": null,
   "id": "69222f51-8ed3-46a9-b40f-1d129ac000af",
   "metadata": {},
   "outputs": [],
   "source": [
    "#Check duplicate values\n",
    "netflix_titles.duplicated().sum()"
   ]
  },
  {
   "cell_type": "code",
   "execution_count": null,
   "id": "cf0f06bf-3382-4c24-bbca-83dc47b7e588",
   "metadata": {},
   "outputs": [],
   "source": [
    "#Check number of null values\n",
    "netflix_titles.isnull().value_counts()"
   ]
  },
  {
   "cell_type": "code",
   "execution_count": null,
   "id": "1b6b0060-dd07-4852-9d26-356a34cef2e3",
   "metadata": {},
   "outputs": [],
   "source": [
    "#Remove unncessary description column\n",
    "netflix_titles.drop(columns = ['description'], inplace = True)"
   ]
  },
  {
   "cell_type": "code",
   "execution_count": null,
   "id": "6ecc7720-c6f6-41a1-ac99-d11de5b04234",
   "metadata": {},
   "outputs": [],
   "source": [
    "netflix_titles.head()"
   ]
  }
 ],
 "metadata": {
  "kernelspec": {
   "display_name": "Python 3 (ipykernel)",
   "language": "python",
   "name": "python3"
  },
  "language_info": {
   "codemirror_mode": {
    "name": "ipython",
    "version": 3
   },
   "file_extension": ".py",
   "mimetype": "text/x-python",
   "name": "python",
   "nbconvert_exporter": "python",
   "pygments_lexer": "ipython3",
   "version": "3.12.4"
  }
 },
 "nbformat": 4,
 "nbformat_minor": 5
}
